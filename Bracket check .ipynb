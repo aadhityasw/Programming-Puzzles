{
 "cells": [
  {
   "cell_type": "markdown",
   "metadata": {},
   "source": [
    "# Bracket Check\n",
    "A program to check the validity of all the brackets in an expression."
   ]
  },
  {
   "cell_type": "code",
   "execution_count": null,
   "metadata": {},
   "outputs": [],
   "source": [
    "s=input()\n",
    "l1=['[','{','(','<']\n",
    "l2=[']','}',')','>']\n",
    "a1=[]\n",
    "f=True\n",
    "for i in range(len(s)) :\n",
    "    if s[i] in l1 :\n",
    "        a1.append(s[i])\n",
    "    elif s[i] in l2 :\n",
    "        a=a1.pop()\n",
    "        if l1.index(a)==l2.index(s[i]) :\n",
    "            f=True\n",
    "        else :\n",
    "            f=False\n",
    "            break\n",
    "print(f)"
   ]
  }
 ],
 "metadata": {
  "kernelspec": {
   "display_name": "Python 3",
   "language": "python",
   "name": "python3"
  },
  "language_info": {
   "codemirror_mode": {
    "name": "ipython",
    "version": 3
   },
   "file_extension": ".py",
   "mimetype": "text/x-python",
   "name": "python",
   "nbconvert_exporter": "python",
   "pygments_lexer": "ipython3",
   "version": "3.6.8"
  }
 },
 "nbformat": 4,
 "nbformat_minor": 2
}
