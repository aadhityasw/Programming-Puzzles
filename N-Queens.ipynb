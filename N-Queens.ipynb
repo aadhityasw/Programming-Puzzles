{
 "cells": [
  {
   "cell_type": "markdown",
   "metadata": {},
   "source": [
    "# N - Queens Problem\n",
    "The n-Queens problem on a chessboard of size n X n corresponds to finding a placement of n queens such that no queen attacks any other queen. "
   ]
  },
  {
   "cell_type": "markdown",
   "metadata": {},
   "source": [
    "## Using 2-Dimentional Arrays/Lists"
   ]
  },
  {
   "cell_type": "code",
   "execution_count": null,
   "metadata": {},
   "outputs": [],
   "source": [
    "def check_collision(n, board) :\n",
    "    for i in range(n) :\n",
    "        for j in range(n) :\n",
    "            if board[i][j] == 1 :\n",
    "                # Vertical\n",
    "                for k in range(n) :\n",
    "                    if k!=i and board[k][j] == 1 :\n",
    "                        return(False)\n",
    "                # Horizontal\n",
    "                for k in range(n) :\n",
    "                    if k!=j and board[i][k] == 1 :\n",
    "                        return(False)\n",
    "                # Principal Diagonal - Down\n",
    "                k = 1\n",
    "                while (i+k)<n and (j+k)<n :\n",
    "                    if board[i+k][j+k] == 1 :\n",
    "                        return(False)\n",
    "                    k+=1\n",
    "                # Principal Diagonal - Up\n",
    "                k = 1\n",
    "                while (i-k)>=0 and (j-k)>=0 :\n",
    "                    if board[i-k][j-k] == 1 :\n",
    "                        return(False)\n",
    "                    k+=1\n",
    "                # Anti-Diagonal - Down\n",
    "                k = 1\n",
    "                while (i+k)<n and (j-k)>=0 :\n",
    "                    if board[i+k][j-k] == 1 :\n",
    "                        return(False)\n",
    "                    k+=1\n",
    "                # Anti-Diagonal - Up\n",
    "                k = 1\n",
    "                while (i-k)>=0 and (j+k)<n :\n",
    "                    if board[i-k][j+k] == 1 :\n",
    "                        return(False)\n",
    "                    k+=1\n",
    "    return(True)\n",
    "\n",
    "def find_chances(n, board, pos) :\n",
    "    global count\n",
    "    if pos>=n :\n",
    "        return()\n",
    "    for i in range(n) :\n",
    "        board[i][pos] = 1\n",
    "        if check_collision(n, board) :\n",
    "            if pos == n-1 :\n",
    "                count += 1\n",
    "                print(board)\n",
    "            else :\n",
    "                find_chances(n, board, (pos+1))\n",
    "        board[i][pos] = 0\n",
    "\n",
    "n = int(input('Enter the number of Queens to be placed in the chessboard :- '))\n",
    "board = []\n",
    "count = 0\n",
    "for i in range(n) :\n",
    "    board.append([0]*n)\n",
    "print('The various solutions are as follows :- ')\n",
    "find_chances(n, board, 0)\n",
    "if count==0 :\n",
    "    print('\\t\\tSorry!! There are no Solutions!')\n",
    "else :\n",
    "    print('The number of solutions is :- ', count)"
   ]
  },
  {
   "cell_type": "markdown",
   "metadata": {},
   "source": [
    "## Using 1-Dimentional Arrays/Lists"
   ]
  },
  {
   "cell_type": "code",
   "execution_count": null,
   "metadata": {},
   "outputs": [],
   "source": [
    "def validate_board(n, board, pos) :\n",
    "    for i in range(n) :\n",
    "        if i==pos :\n",
    "            continue\n",
    "        if (board[i] == board[pos]):\n",
    "            return(False)\n",
    "        if (pos - i == abs(board[pos] - board[i])):\n",
    "            return(False)\n",
    "    return(True)\n",
    "\n",
    "def find_valid_boards(n, board, pos) :\n",
    "    global count\n",
    "    if pos>=n :\n",
    "        return()\n",
    "    for i in range(n) :\n",
    "        board[pos]+=1\n",
    "        if validate_board(n, board, pos) :\n",
    "            if pos==n-1 :\n",
    "                count+=1\n",
    "                print(board)\n",
    "            else :\n",
    "                find_valid_boards(n, board, pos+1)\n",
    "    board[pos]=-1\n",
    "\n",
    "n = int(input('Enter the number of Queens to be placed in the chessboard :- '))\n",
    "board = [-1]*n\n",
    "count = 0\n",
    "print('The various solutions are as follows :- ')\n",
    "find_valid_boards(n, board, 0)\n",
    "if count==0 :\n",
    "    print('\\t\\tSorry!! There are no Solutions!')\n",
    "else :\n",
    "    print('The number of solutions is :- ', count)"
   ]
  },
  {
   "cell_type": "code",
   "execution_count": null,
   "metadata": {},
   "outputs": [],
   "source": []
  }
 ],
 "metadata": {
  "kernelspec": {
   "display_name": "Python 3",
   "language": "python",
   "name": "python3"
  },
  "language_info": {
   "codemirror_mode": {
    "name": "ipython",
    "version": 3
   },
   "file_extension": ".py",
   "mimetype": "text/x-python",
   "name": "python",
   "nbconvert_exporter": "python",
   "pygments_lexer": "ipython3",
   "version": "3.6.8"
  }
 },
 "nbformat": 4,
 "nbformat_minor": 2
}
