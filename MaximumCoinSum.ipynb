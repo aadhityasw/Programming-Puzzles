{
 "cells": [
  {
   "cell_type": "markdown",
   "metadata": {},
   "source": [
    "# Maximum Coin Sum\n",
    "We have a set of coins in a row. We need to pick a subset of the coins to maximize their sum, but with the additional constraint that we are not allowed to pick two adjacent coins."
   ]
  },
  {
   "cell_type": "markdown",
   "metadata": {},
   "source": [
    "## Using Recursion"
   ]
  },
  {
   "cell_type": "code",
   "execution_count": 8,
   "metadata": {},
   "outputs": [
    {
     "name": "stdin",
     "output_type": "stream",
     "text": [
      "Enter a set of coin numbers :-  1\n"
     ]
    },
    {
     "name": "stdout",
     "output_type": "stream",
     "text": [
      "The maximum possible sum is :-  126\n"
     ]
    }
   ],
   "source": [
    "def coins(arr) :\n",
    "    if len(arr) == 0 :\n",
    "        return(0)\n",
    "    elif len(arr) == 1 :\n",
    "        return(arr[0])\n",
    "    else :\n",
    "        pick = coins(arr[2:]) + arr[0]\n",
    "        skip = coins(arr[1:])\n",
    "        return(max(pick, skip))\n",
    "arr = list(map(int, input('Enter a set of coin numbers :- ').strip().split(' ')))\n",
    "print('The maximum possible sum is :- ', coins(arr))"
   ]
  },
  {
   "cell_type": "markdown",
   "metadata": {},
   "source": [
    "## Using Recursive Memoization and Dynamic Programming"
   ]
  },
  {
   "cell_type": "code",
   "execution_count": 12,
   "metadata": {},
   "outputs": [
    {
     "name": "stdin",
     "output_type": "stream",
     "text": [
      "Enter a set of coin numbers :-  1 2 -2 -3 -4 55 66\n"
     ]
    },
    {
     "name": "stdout",
     "output_type": "stream",
     "text": [
      "The maximum possible sum is :-  68\n"
     ]
    }
   ],
   "source": [
    "def coins_opt(arr) :\n",
    "    global table\n",
    "    if len(arr) == 0 :\n",
    "        table[0] = 0\n",
    "        return(0)\n",
    "    elif len(arr) == 1 :\n",
    "        table[1] = arr[0]\n",
    "        return(arr[0])\n",
    "    else :\n",
    "        if len(arr) in table :\n",
    "            return(table[len(arr)])\n",
    "        else :\n",
    "            pick = coins_opt(arr[2:]) + arr[0]\n",
    "            skip = coins_opt(arr[1:])\n",
    "            table[len(arr)] = max(pick, skip)\n",
    "            return(table[len(arr)])\n",
    "\n",
    "table = {}\n",
    "arr = list(map(int, input('Enter a set of coin numbers :- ').strip().split(' ')))\n",
    "print('The maximum possible sum is :- ', coins_opt(arr))"
   ]
  },
  {
   "cell_type": "code",
   "execution_count": 6,
   "metadata": {},
   "outputs": [],
   "source": [
    "row1 = [3, 15, 17, 23, 11, 3, 4, 5, 17, 23, 34, 17, 18, 14, 12, 15]\n",
    "row2 = [14, 3, 27, 4, 5, 15, 1]"
   ]
  },
  {
   "cell_type": "code",
   "execution_count": null,
   "metadata": {},
   "outputs": [],
   "source": []
  }
 ],
 "metadata": {
  "kernelspec": {
   "display_name": "Python 3",
   "language": "python",
   "name": "python3"
  },
  "language_info": {
   "codemirror_mode": {
    "name": "ipython",
    "version": 3
   },
   "file_extension": ".py",
   "mimetype": "text/x-python",
   "name": "python",
   "nbconvert_exporter": "python",
   "pygments_lexer": "ipython3",
   "version": "3.6.8"
  }
 },
 "nbformat": 4,
 "nbformat_minor": 2
}
