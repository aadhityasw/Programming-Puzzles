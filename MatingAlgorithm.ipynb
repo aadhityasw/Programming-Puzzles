{
 "cells": [
  {
   "cell_type": "markdown",
   "metadata": {},
   "source": [
    "# The Mating Algorithm\n",
    "Each Day: <br>\n",
    "Morning:– <br> Each girl stands on her balcony–Each boy stands under the balcony of his favorite girl whom he has not yet crossed off his list and serenades. If there are no girls left on his list, he stays home and does homework. <br> Afternoon:– <br> Girls who have at least one suitor say to their favorite from among the suitors that day :“Maybe, come back tomorrow.”– To the others, they say “No, I will never marry you!” <br> \n",
    "Evening:– <br> Any boy who hears “No” crosses that girl of his list. <br>\n",
    "Termination Condition: If there is a day when every girl has at most one suitor, we stop and each girl marries her current suitor (if any).\n"
   ]
  },
  {
   "cell_type": "code",
   "execution_count": null,
   "metadata": {},
   "outputs": [],
   "source": []
  }
 ],
 "metadata": {
  "kernelspec": {
   "display_name": "Python 3",
   "language": "python",
   "name": "python3"
  },
  "language_info": {
   "codemirror_mode": {
    "name": "ipython",
    "version": 3
   },
   "file_extension": ".py",
   "mimetype": "text/x-python",
   "name": "python",
   "nbconvert_exporter": "python",
   "pygments_lexer": "ipython3",
   "version": "3.6.8"
  }
 },
 "nbformat": 4,
 "nbformat_minor": 2
}
