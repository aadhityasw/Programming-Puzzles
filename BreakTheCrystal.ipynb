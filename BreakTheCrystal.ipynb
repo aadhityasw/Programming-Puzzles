{
 "cells": [
  {
   "cell_type": "code",
   "execution_count": 19,
   "metadata": {},
   "outputs": [
    {
     "name": "stdin",
     "output_type": "stream",
     "text": [
      "Enter the number of floors :-  11\n",
      "Enter the number of balls :-  11\n"
     ]
    }
   ],
   "source": [
    "import math\n",
    "\n",
    "n = int(input('Enter the number of floors :- '))\n",
    "d = int(input('Enter the number of balls :- '))\n",
    "floors = [0]*d\n",
    "r = 10**(math.log10(n)/d)\n",
    "if r>int(r) :\n",
    "    r = int(r) + 1\n",
    "else :\n",
    "    r = int(r)\n",
    "for i in range(d) :\n",
    "    \n",
    "\n",
    "res = find_floor(n, r, d, 0)\n",
    "print('The Hardness coefficient measured by the floors of the building is :- ', res)"
   ]
  },
  {
   "cell_type": "code",
   "execution_count": null,
   "metadata": {},
   "outputs": [],
   "source": []
  }
 ],
 "metadata": {
  "kernelspec": {
   "display_name": "Python 3",
   "language": "python",
   "name": "python3"
  },
  "language_info": {
   "codemirror_mode": {
    "name": "ipython",
    "version": 3
   },
   "file_extension": ".py",
   "mimetype": "text/x-python",
   "name": "python",
   "nbconvert_exporter": "python",
   "pygments_lexer": "ipython3",
   "version": "3.6.8"
  }
 },
 "nbformat": 4,
 "nbformat_minor": 2
}
