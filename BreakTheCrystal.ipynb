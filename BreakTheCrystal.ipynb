{
 "cells": [
  {
   "cell_type": "markdown",
   "metadata": {},
   "source": [
    "# Break the Crystal\n",
    "You are tasked with determining the “hardness coefficient” of a set of identical crystal balls. The famous Shanghai Tower completed in 2015 has 128 floors, and you have to figure out from how high you can drop one of these balls so it doesn’t break but rather bounces off the ground below.<br>\n",
    "Given the number of floors n, and the number of balls d, choose r such that r^d > n."
   ]
  },
  {
   "cell_type": "code",
   "execution_count": null,
   "metadata": {},
   "outputs": [],
   "source": [
    "import math\n",
    "\n",
    "def to_decimal(r, d, floors) :\n",
    "    number = 0\n",
    "    for i in range(d-1):\n",
    "        number = (number + floors[i]) * r\n",
    "    number += floors[d-1]\n",
    "    return number\n",
    "\n",
    "n = int(input('Enter the number of floors :- '))\n",
    "d = int(input('Enter the number of balls :- '))\n",
    "floors = [0]*d\n",
    "r = int(10**(math.log10(n)/d)) + 1\n",
    "if r**d<=n :\n",
    "    r = r + 1\n",
    "drops = 0\n",
    "for i in range(d) :\n",
    "    for j in range(r-1) :\n",
    "        floors[i] += 1\n",
    "        curr_floor = to_decimal(r, d, floors)\n",
    "        if curr_floor > n :\n",
    "            floors[i] -= 1\n",
    "            break\n",
    "        print('Drop the ball ', (i+1), 'from the ', curr_floor, 'th floor to check if it breaks.')\n",
    "        ans = input('Did the ball break (yes/no) :- ')\n",
    "        drops += 1\n",
    "        if ans == 'yes' :\n",
    "            floors[i] -= 1\n",
    "            break\n",
    "hardness = to_decimal(r, d, floors)\n",
    "print('The Hardness coefficient measured by the floors of the building is :- ', hardness)\n",
    "print('The total number of drops performed :- ', drops)"
   ]
  }
 ],
 "metadata": {
  "kernelspec": {
   "display_name": "Python 3",
   "language": "python",
   "name": "python3"
  },
  "language_info": {
   "codemirror_mode": {
    "name": "ipython",
    "version": 3
   },
   "file_extension": ".py",
   "mimetype": "text/x-python",
   "name": "python",
   "nbconvert_exporter": "python",
   "pygments_lexer": "ipython3",
   "version": "3.6.8"
  }
 },
 "nbformat": 4,
 "nbformat_minor": 2
}
