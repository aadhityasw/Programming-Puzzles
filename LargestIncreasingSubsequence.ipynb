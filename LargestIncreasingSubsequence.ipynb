{
 "cells": [
  {
   "cell_type": "markdown",
   "metadata": {},
   "source": [
    "# Largest Increasing Subsequence\n",
    "Find the set of numbers in a sequence that are continuously increasing from left to right with the maximum sum."
   ]
  },
  {
   "cell_type": "code",
   "execution_count": 6,
   "metadata": {},
   "outputs": [
    {
     "name": "stdout",
     "output_type": "stream",
     "text": [
      "The Largest Increasing Subsequence is :  [10, 22, 33, 50, 60]\n"
     ]
    }
   ],
   "source": [
    "def longest_Increasng_Subsequence(arr) :\n",
    "    lis = []\n",
    "    lis.append([arr[0]])\n",
    "    totmax = [0]\n",
    "    for i in range(1, len(arr)) :\n",
    "        maxx = [0]\n",
    "        for j in range(i) :\n",
    "            if arr[j] < arr[i] :\n",
    "                if sum(lis[j]) > sum(maxx) :\n",
    "                    maxx = lis[j].copy()\n",
    "        if maxx == [0] :\n",
    "            lis.append([arr[i]])\n",
    "        else :\n",
    "            maxx.append(arr[i])\n",
    "            lis.append(maxx)\n",
    "        if sum(totmax) < sum(maxx) :\n",
    "            totmax = maxx.copy()\n",
    "    return totmax\n",
    "\n",
    "def get_Input() :\n",
    "    arr = list(map(int, input('Enter the numbers separated by a space : ').strip().split(' ')))\n",
    "    return arr\n",
    "\n",
    "arr = get_Input()\n",
    "#arr = array_1\n",
    "totmax = longest_Increasng_Subsequence(arr)\n",
    "print('The Largest Increasing Subsequence is : ',totmax)"
   ]
  },
  {
   "cell_type": "code",
   "execution_count": 4,
   "metadata": {},
   "outputs": [],
   "source": [
    "array_1 = [10, 22, 9, 33, 21, 50, 41, 60]"
   ]
  },
  {
   "cell_type": "code",
   "execution_count": null,
   "metadata": {},
   "outputs": [],
   "source": []
  }
 ],
 "metadata": {
  "kernelspec": {
   "display_name": "Python 3",
   "language": "python",
   "name": "python3"
  },
  "language_info": {
   "codemirror_mode": {
    "name": "ipython",
    "version": 3
   },
   "file_extension": ".py",
   "mimetype": "text/x-python",
   "name": "python",
   "nbconvert_exporter": "python",
   "pygments_lexer": "ipython3",
   "version": "3.6.8"
  }
 },
 "nbformat": 4,
 "nbformat_minor": 2
}
