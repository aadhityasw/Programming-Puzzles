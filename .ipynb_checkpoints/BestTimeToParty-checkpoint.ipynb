{
 "cells": [
  {
   "cell_type": "markdown",
   "metadata": {},
   "source": [
    "# Best time to party\n",
    "Given a set of intervals, find the best time to attend the party when maximum number of celebrities are present."
   ]
  },
  {
   "cell_type": "code",
   "execution_count": null,
   "metadata": {},
   "outputs": [],
   "source": [
    "n = int(input('Enter the number of intervals of the celebrities :- '))\n",
    "arr = []\n",
    "for i in range(n) :\n",
    "    arr.append(tuple(map(int, input().strip().split(' '))))\n",
    "    if i==0 :\n",
    "        start = arr[0][0]\n",
    "        end = arr[0][1]\n",
    "    else :\n",
    "        if arr[i][0]<start :\n",
    "            start = arr[i][0]\n",
    "        if arr[i][1]>end :\n",
    "            end = arr[i][1]\n",
    "count = [0] * (end-start+1)\n",
    "for i in range(start, end+1) :\n",
    "    for c in arr :\n",
    "        if c[0]<=i and i<c[1] :\n",
    "            count[i-start] += 1\n",
    "maxcount = 0\n",
    "ma = []\n",
    "for i in range(len(count)) :\n",
    "    if count[i]>maxcount :\n",
    "        ma = [i]\n",
    "        maxcount = count[i]\n",
    "    elif count[i] == maxcount :\n",
    "        ma.append(i)\n",
    "print('The best time to enter the party is :- ')\n",
    "for i in ma :\n",
    "    print('\\t\\t', (i+start))"
   ]
  }
 ],
 "metadata": {
  "kernelspec": {
   "display_name": "Python 3",
   "language": "python",
   "name": "python3"
  },
  "language_info": {
   "codemirror_mode": {
    "name": "ipython",
    "version": 3
   },
   "file_extension": ".py",
   "mimetype": "text/x-python",
   "name": "python",
   "nbconvert_exporter": "python",
   "pygments_lexer": "ipython3",
   "version": "3.6.8"
  }
 },
 "nbformat": 4,
 "nbformat_minor": 2
}
