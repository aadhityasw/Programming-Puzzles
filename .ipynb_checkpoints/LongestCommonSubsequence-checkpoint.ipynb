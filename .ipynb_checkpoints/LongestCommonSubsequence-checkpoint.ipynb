{
 "cells": [
  {
   "cell_type": "markdown",
   "metadata": {},
   "source": [
    "# Longest Common Subsequence\n",
    "Given two sequences, find the length of longest subsequence present in both of them where a subsequence is a sequence that appears in the same relative order, but not necessarily contiguous."
   ]
  },
  {
   "cell_type": "markdown",
   "metadata": {},
   "source": [
    "## Using Recursion"
   ]
  },
  {
   "cell_type": "code",
   "execution_count": 6,
   "metadata": {},
   "outputs": [
    {
     "name": "stdout",
     "output_type": "stream",
     "text": [
      "The length of the longest common subsequence is :  4\n"
     ]
    }
   ],
   "source": [
    "def LCS(X, Y, m, n) :\n",
    "    if m == 0 or n == 0 :\n",
    "        return 1\n",
    "    else :\n",
    "        if X[m] == Y[n] :\n",
    "            return 1 + LCS(X, Y, m-1, n-1)\n",
    "        else :\n",
    "            return max(LCS(X, Y, m-1, n), LCS(X, Y, m, n-1))\n",
    "\n",
    "#X, Y = get_Input()\n",
    "X, Y = X_1, Y_1\n",
    "num = LCS(X, Y, len(X)-1, len(Y)-1)\n",
    "print('The length of the longest common subsequence is : ', num)"
   ]
  },
  {
   "cell_type": "markdown",
   "metadata": {},
   "source": [
    "## Using Dynamic Programming"
   ]
  },
  {
   "cell_type": "code",
   "execution_count": 9,
   "metadata": {},
   "outputs": [
    {
     "name": "stdout",
     "output_type": "stream",
     "text": [
      "The length of the longest common subsequence is :  4\n"
     ]
    }
   ],
   "source": [
    "def LCS_Dynamic(X, Y) :\n",
    "    arr = [[0]*(len(Y)+1) for i in range(len(X)+1)]\n",
    "    for i in range(len(X)+1) :\n",
    "        for j in range(len(Y)+1) :\n",
    "            if i == 0 or j == 0 :\n",
    "                arr[i][j] = 0\n",
    "            else :\n",
    "                if X[i-1] == Y[j-1] :\n",
    "                    arr[i][j] = 1 + arr[i-1][j-1]\n",
    "                else :\n",
    "                    arr[i][j] = max(arr[i-1][j], arr[i][j-1])\n",
    "    return arr[-1][-1]\n",
    "\n",
    "#X, Y = get_Input()\n",
    "X, Y = X_1, Y_1\n",
    "num = LCS_Dynamic(X, Y)\n",
    "print('The length of the longest common subsequence is : ', num)"
   ]
  },
  {
   "cell_type": "code",
   "execution_count": 1,
   "metadata": {},
   "outputs": [],
   "source": [
    "X_1 = 'AGGTAB'\n",
    "Y_1 = 'GXTXAYB'"
   ]
  },
  {
   "cell_type": "code",
   "execution_count": null,
   "metadata": {},
   "outputs": [],
   "source": []
  }
 ],
 "metadata": {
  "kernelspec": {
   "display_name": "Python 3",
   "language": "python",
   "name": "python3"
  },
  "language_info": {
   "codemirror_mode": {
    "name": "ipython",
    "version": 3
   },
   "file_extension": ".py",
   "mimetype": "text/x-python",
   "name": "python",
   "nbconvert_exporter": "python",
   "pygments_lexer": "ipython3",
   "version": "3.6.8"
  }
 },
 "nbformat": 4,
 "nbformat_minor": 2
}
