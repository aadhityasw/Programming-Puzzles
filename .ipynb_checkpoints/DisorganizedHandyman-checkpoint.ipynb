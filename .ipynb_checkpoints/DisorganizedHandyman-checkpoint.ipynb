{
 "cells": [
  {
   "cell_type": "markdown",
   "metadata": {},
   "source": [
    "# Disorganized Handyman\n",
    "A handyman has a whole collection of nuts and bolts of different sizes in a bag. Each nut is unique and has a corresponding unique bolt, but the disorganized handyman has dumped them all into one bag and they are all mixed up.  How best to “sort” these nuts and attach each to its corresponding bolt?"
   ]
  },
  {
   "cell_type": "markdown",
   "metadata": {},
   "source": [
    "## Using Divide and Conquer"
   ]
  },
  {
   "cell_type": "code",
   "execution_count": 6,
   "metadata": {},
   "outputs": [
    {
     "name": "stdin",
     "output_type": "stream",
     "text": [
      "Enter nut sizes :- 1 3 2 5 4\n",
      "Enter bolt sizes :- 1 3 2 4 5\n"
     ]
    },
    {
     "name": "stdout",
     "output_type": "stream",
     "text": [
      "The organised set is :-  [1, 2, 3, 4, 5] [1, 2, 3, 4, 5]\n"
     ]
    }
   ],
   "source": [
    "def sorting(nut, bolt) :\n",
    "    if len(nut) <= 1 or len(bolt) <= 1 :\n",
    "        return(nut, bolt)\n",
    "    pivot_nut = nut[len(nut)//2]\n",
    "    left_bolt = []\n",
    "    right_bolt = []\n",
    "    left_nut = []\n",
    "    right_nut = []\n",
    "    for i in range(len(nut)) :\n",
    "        if i != len(nut)//2 :\n",
    "            if nut[i]<pivot_nut :\n",
    "                left_nut.append(nut[i])\n",
    "            elif nut[i]>pivot_nut :\n",
    "                right_nut.append(nut[i])\n",
    "        if bolt[i]<pivot_nut :\n",
    "            left_bolt.append(bolt[i])\n",
    "        elif bolt[i]>pivot_nut :\n",
    "            right_bolt.append(bolt[i])\n",
    "        else :\n",
    "            pivot_bolt = bolt[i]\n",
    "            \n",
    "    left_nut, left_bolt = sorting(left_nut, left_bolt)\n",
    "    right_nut, right_bolt = sorting(right_nut, right_bolt)\n",
    "    arr_nut = left_nut + [pivot_nut] + right_nut\n",
    "    arr_bolt = left_bolt + [pivot_bolt] + right_bolt\n",
    "    return(arr_nut, arr_bolt)\n",
    "\n",
    "nut = list(map(int, input('Enter nut sizes :-').strip().split(' ')))\n",
    "bolt = list(map(int, input('Enter bolt sizes :-').strip().split(' ')))\n",
    "nut, bolt = sorting(nut, bolt)\n",
    "print('The organised set is :- ', nut, bolt)"
   ]
  },
  {
   "cell_type": "code",
   "execution_count": null,
   "metadata": {},
   "outputs": [],
   "source": []
  }
 ],
 "metadata": {
  "kernelspec": {
   "display_name": "Python 3",
   "language": "python",
   "name": "python3"
  },
  "language_info": {
   "codemirror_mode": {
    "name": "ipython",
    "version": 3
   },
   "file_extension": ".py",
   "mimetype": "text/x-python",
   "name": "python",
   "nbconvert_exporter": "python",
   "pygments_lexer": "ipython3",
   "version": "3.6.8"
  }
 },
 "nbformat": 4,
 "nbformat_minor": 2
}
