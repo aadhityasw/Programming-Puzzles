{
 "cells": [
  {
   "cell_type": "markdown",
   "metadata": {},
   "source": [
    "# Edit Distance\n",
    "Given two strings str1 and str2 and below operations that can performed on str1. Find minimum number of edits (operations) required to convert ‘str1’ into ‘str2’."
   ]
  },
  {
   "cell_type": "markdown",
   "metadata": {},
   "source": [
    "## Using Recursion"
   ]
  },
  {
   "cell_type": "code",
   "execution_count": 10,
   "metadata": {},
   "outputs": [
    {
     "name": "stdin",
     "output_type": "stream",
     "text": [
      "Enter the first word :  asd\n",
      "Enter the second word :  dsa\n"
     ]
    },
    {
     "name": "stdout",
     "output_type": "stream",
     "text": [
      "The cost of converting is :  2\n"
     ]
    }
   ],
   "source": [
    "def find_Edits(st1, st2, m, n) :\n",
    "    if m == 0 :\n",
    "        return n\n",
    "    elif n == 0 :\n",
    "        return m\n",
    "    elif st1[m-1] == st2[n-1] :\n",
    "        return find_Edits(st1, st2, m-1, n-1)\n",
    "    else :\n",
    "        ins = find_Edits(st1, st2, m, n-1)\n",
    "        rem = find_Edits(st1, st2, m-1, n)\n",
    "        edi = find_Edits(st1, st2, m-1, n-1)\n",
    "        return 1 + min(ins, rem, edi)\n",
    "\n",
    "s1 = input('Enter the first word : ')\n",
    "s2 = input('Enter the second word : ')\n",
    "cost = find_Edits(s1, s2, len(s1), len(s2))\n",
    "print('The cost of converting is : ', cost)"
   ]
  },
  {
   "cell_type": "markdown",
   "metadata": {},
   "source": [
    "## Using Dynamic Programming"
   ]
  },
  {
   "cell_type": "code",
   "execution_count": 7,
   "metadata": {},
   "outputs": [
    {
     "name": "stdin",
     "output_type": "stream",
     "text": [
      "Enter the first word :  asd\n",
      "Enter the second word :  dsa\n"
     ]
    },
    {
     "name": "stdout",
     "output_type": "stream",
     "text": [
      "The cost of converting is :  2\n"
     ]
    }
   ],
   "source": [
    "def find_Edits(st1, st2, m, n, df) :\n",
    "    for i in range(m+1) :\n",
    "        for j in range(n+1) :\n",
    "            if i == 0 :\n",
    "                df[i][j] = j\n",
    "            elif j == 0 :\n",
    "                df[i][j] = i\n",
    "            elif st1[i-1] == st2[j-1] :\n",
    "                df[i][j] = df[i-1][j-1]\n",
    "            else :\n",
    "                df[i][j] = 1 + min(df[i][j-1], df[i-1][j], df[i-1][j-1])\n",
    "    return df[m][n]\n",
    "\n",
    "s1 = input('Enter the first word : ')\n",
    "s2 = input('Enter the second word : ')\n",
    "dp = [[0]*(len(s1)+1) for i in range(len(s2)+1)]\n",
    "cost = find_Edits(s1, s2, len(s1), len(s2), dp)\n",
    "print('The cost of converting is : ', cost)"
   ]
  },
  {
   "cell_type": "code",
   "execution_count": null,
   "metadata": {},
   "outputs": [],
   "source": []
  }
 ],
 "metadata": {
  "kernelspec": {
   "display_name": "Python 3",
   "language": "python",
   "name": "python3"
  },
  "language_info": {
   "codemirror_mode": {
    "name": "ipython",
    "version": 3
   },
   "file_extension": ".py",
   "mimetype": "text/x-python",
   "name": "python",
   "nbconvert_exporter": "python",
   "pygments_lexer": "ipython3",
   "version": "3.6.8"
  }
 },
 "nbformat": 4,
 "nbformat_minor": 2
}
