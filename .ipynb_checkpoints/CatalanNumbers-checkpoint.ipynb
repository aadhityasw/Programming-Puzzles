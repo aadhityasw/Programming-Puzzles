{
 "cells": [
  {
   "cell_type": "markdown",
   "metadata": {},
   "source": [
    "# Catalan Numbers\n",
    "\n",
    "1 1 2 5 14 42 132 429 1430 4862 ..."
   ]
  },
  {
   "cell_type": "markdown",
   "metadata": {},
   "source": [
    "## Using Recursion"
   ]
  },
  {
   "cell_type": "code",
   "execution_count": 11,
   "metadata": {},
   "outputs": [
    {
     "name": "stdin",
     "output_type": "stream",
     "text": [
      "Enter a number :-  6\n"
     ]
    },
    {
     "name": "stdout",
     "output_type": "stream",
     "text": [
      "The Catalan of the entered number is :-  132\n"
     ]
    }
   ],
   "source": [
    "def catalan(n) :\n",
    "    if n<=1 :\n",
    "        return(1)\n",
    "    res = 0\n",
    "    for i in range(n) :\n",
    "        res += catalan(i) * catalan(n-i-1)\n",
    "    return(res)\n",
    "\n",
    "num = int(input('Enter a number :- '))\n",
    "print('The Catalan of the entered number is :- ', catalan(num))"
   ]
  },
  {
   "cell_type": "markdown",
   "metadata": {},
   "source": [
    "## Using Dynamic Programming"
   ]
  },
  {
   "cell_type": "code",
   "execution_count": 20,
   "metadata": {},
   "outputs": [
    {
     "name": "stdin",
     "output_type": "stream",
     "text": [
      "Enter a number :-  9\n"
     ]
    },
    {
     "name": "stdout",
     "output_type": "stream",
     "text": [
      "The Catalan of the entered number is :-  4862\n"
     ]
    }
   ],
   "source": [
    "def catalan(n) :\n",
    "    if n<=1 :\n",
    "        return(1)\n",
    "    catalan = [0]*(n+1)\n",
    "    catalan[0] = 1\n",
    "    catalan[1] = 1\n",
    "    for i in range(2, n+1) :\n",
    "        for j in range(i) :\n",
    "            catalan[i] = catalan[i] + catalan[j]*catalan[i-j-1]\n",
    "    return(catalan[n])\n",
    "\n",
    "num = int(input('Enter a number :- '))\n",
    "print('The Catalan of the entered number is :- ', catalan(num))"
   ]
  },
  {
   "cell_type": "markdown",
   "metadata": {},
   "source": [
    "## Using Binomial Coefficient"
   ]
  },
  {
   "cell_type": "code",
   "execution_count": null,
   "metadata": {},
   "outputs": [],
   "source": []
  }
 ],
 "metadata": {
  "kernelspec": {
   "display_name": "Python 3",
   "language": "python",
   "name": "python3"
  },
  "language_info": {
   "codemirror_mode": {
    "name": "ipython",
    "version": 3
   },
   "file_extension": ".py",
   "mimetype": "text/x-python",
   "name": "python",
   "nbconvert_exporter": "python",
   "pygments_lexer": "ipython3",
   "version": "3.6.8"
  }
 },
 "nbformat": 4,
 "nbformat_minor": 2
}
