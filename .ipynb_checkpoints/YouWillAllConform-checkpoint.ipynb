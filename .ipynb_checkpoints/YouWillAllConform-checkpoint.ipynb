{
 "cells": [
  {
   "cell_type": "markdown",
   "metadata": {},
   "source": [
    "# You Will All Conform\n",
    "A program to announce to flip the caps of the people standing in a line, in a way so as to minimize the number of announcements made."
   ]
  },
  {
   "cell_type": "markdown",
   "metadata": {},
   "source": [
    "Let’s say we have a whole bunch of people in line waiting to see a baseball game.  They are all hometown fans and each person has a team cap and is wearing it.  However, not all of them are wearing the caps in the same way – some are wearing their caps in the normal way, and some are wearing them backwards.People have different definitions of normal and backwards but you, the gatekeeper thinks that the cap on the left below is being normally worn and the one on the right is being worn backwards.\n",
    "You are the gatekeeper and can only let them in to the stadium if the entire group has their caps on in the same way – either all forwards or all backwards.  Because everyone has different definitions of forward and backward, you can’t tell them to wear their cap forwards or backwards. You can only tell them to flip their caps. The good news is that each person knows what position they are in the line, starting with the first person having position 0 and the last one position n – 1.\n",
    "What you would like to do is to minimize the number of requests you have to shout out to save your voice. "
   ]
  },
  {
   "cell_type": "markdown",
   "metadata": {},
   "source": [
    "## Note :- Index printed starts from 1 for the first person in the line"
   ]
  },
  {
   "cell_type": "code",
   "execution_count": null,
   "metadata": {},
   "outputs": [],
   "source": [
    "arr = list(input().strip().split(' '))\n",
    "start = 0\n",
    "forward = 0\n",
    "backward = 0\n",
    "arr.append('END')\n",
    "marr = []\n",
    "for i in range(1, len(arr)) :\n",
    "    if arr[i] != arr[start] :\n",
    "        marr.append((start, i-1, arr[start]))\n",
    "        if arr[start] == 'f' :\n",
    "            forward += 1\n",
    "        elif arr[start] == 'b' :\n",
    "            backward += 1\n",
    "        start = i\n",
    "if forward < backward :\n",
    "    flip = 'f'\n",
    "else :\n",
    "    flip = 'b'\n",
    "for i in marr :\n",
    "    if i[2] == flip :\n",
    "        if i[0] == i[1] :\n",
    "            print('Person at position', i[0]+1, ', Flip your cap!!')\n",
    "        else :\n",
    "            print('People in position', i[0]+1, 'through', i[1]+1, ', Flip your caps!!')"
   ]
  },
  {
   "cell_type": "markdown",
   "metadata": {},
   "source": [
    "## More Efficient Code\n",
    "The first letter always at best can have an interval to be equal to the other, so it is always best to make the second interval's people to change their cap positions."
   ]
  },
  {
   "cell_type": "code",
   "execution_count": null,
   "metadata": {},
   "outputs": [],
   "source": [
    "arr = list(input().strip().split(' '))\n",
    "arr.append(arr[0])\n",
    "for i in range(1, len(arr)) :\n",
    "    if arr[i] != arr[i-1] :\n",
    "        if arr[i] != arr[0] :\n",
    "            print('People in positions', i+1, end='')\n",
    "        else :\n",
    "            print(' through', i, ', flip your caps!!')"
   ]
  },
  {
   "cell_type": "code",
   "execution_count": null,
   "metadata": {},
   "outputs": [],
   "source": [
    "arr = list(input().strip().split(' '))\n",
    "arr.append(arr[0])\n",
    "for i in range(1, len(arr)) :\n",
    "    if arr[i] != arr[i-1] :\n",
    "        if arr[i] != arr[0] :\n",
    "            start = i+1\n",
    "        else :\n",
    "            if start == i :\n",
    "                print('Person at position', start, ', flip your cap!!')\n",
    "            else :\n",
    "                print('People in position', start, 'through', i, ', flip your caps!!')"
   ]
  },
  {
   "cell_type": "markdown",
   "metadata": {},
   "source": [
    "## With Consideration given to bare headed people\n",
    "Suppose there are bareheaded people in the line. We’ll represent them with the 'H' character.\n",
    "We don’t want to confuse the bareheaded people by telling them to flip their non-existent caps and perhaps cause one of them to try to steal a cap from the person ahead in line. Therefore, we want to skip over all the 'H' positions."
   ]
  },
  {
   "cell_type": "code",
   "execution_count": null,
   "metadata": {},
   "outputs": [],
   "source": [
    "arr = list(input().strip().split(' '))\n",
    "start = 0\n",
    "forward = 0\n",
    "backward = 0\n",
    "arr.append('END')\n",
    "marr = []\n",
    "for i in range(1, len(arr)) :\n",
    "    if arr[i] != arr[start] :\n",
    "        marr.append((start, i-1, arr[start]))\n",
    "        if arr[start] == 'f' :\n",
    "            forward += 1\n",
    "        elif arr[start] == 'b' :\n",
    "            backward += 1\n",
    "        if arr[i]=='h' :\n",
    "            start = i+1\n",
    "        else :\n",
    "            start = i\n",
    "if forward < backward :\n",
    "    flip = 'f'\n",
    "else :\n",
    "    flip = 'b'\n",
    "for i in marr :\n",
    "    if i[2] == flip :\n",
    "        if i[0] == i[1] :\n",
    "            print('Person at position', i[0]+1, ', Flip your cap!!')\n",
    "        else :\n",
    "            print('People in position', i[0]+1, 'through', i[1]+1, ', Flip your caps!!')"
   ]
  },
  {
   "cell_type": "code",
   "execution_count": null,
   "metadata": {},
   "outputs": [],
   "source": []
  }
 ],
 "metadata": {
  "kernelspec": {
   "display_name": "Python 3",
   "language": "python",
   "name": "python3"
  },
  "language_info": {
   "codemirror_mode": {
    "name": "ipython",
    "version": 3
   },
   "file_extension": ".py",
   "mimetype": "text/x-python",
   "name": "python",
   "nbconvert_exporter": "python",
   "pygments_lexer": "ipython3",
   "version": "3.6.8"
  }
 },
 "nbformat": 4,
 "nbformat_minor": 2
}
