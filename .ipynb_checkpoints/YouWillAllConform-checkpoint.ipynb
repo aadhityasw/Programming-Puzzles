{
 "cells": [
  {
   "cell_type": "markdown",
   "metadata": {},
   "source": [
    "# You Will All Conform\n",
    "A program to announce to flip the caps of the people standing in a line, in a way so as to minimize the number of announcements made."
   ]
  },
  {
   "cell_type": "code",
   "execution_count": null,
   "metadata": {},
   "outputs": [],
   "source": [
    "arr = list(input().strip().split(' '))\n",
    "start = 0\n",
    "forward = 0\n",
    "backward = 0\n",
    "arr.append('END')\n",
    "marr = []\n",
    "for i in range(1, len(arr)) :\n",
    "    if arr[i] != arr[start] :\n",
    "        marr.append((start, i-1, arr[start]))\n",
    "        if arr[start] == 'f' :\n",
    "            forward += 1\n",
    "        elif arr[start] == 'b' :\n",
    "            backward += 1\n",
    "        start = i\n",
    "if forward < backward :\n",
    "    flip = 'f'\n",
    "else :\n",
    "    flip = 'b'\n",
    "for i in marr :\n",
    "    if i[2] == flip :\n",
    "        if i[0] == i[1] :\n",
    "            print('Person at position', i[0], ', Flip your cap!!')\n",
    "        else :\n",
    "            print('People in position', i[0], 'through', i[1], ', Flip your caps!!')"
   ]
  },
  {
   "cell_type": "markdown",
   "metadata": {},
   "source": [
    "### Simpler Code\n",
    "The first letter always at best can have an interval to be equal to the other, so it is always best to make the second interval's people to change their cap positions."
   ]
  },
  {
   "cell_type": "code",
   "execution_count": null,
   "metadata": {},
   "outputs": [],
   "source": [
    "arr = list(input().strip().split(' '))\n",
    "arr.append(arr[0])\n",
    "for i in range(1, len(arr)) :\n",
    "    if arr[i] != arr[i-1] :\n",
    "        if arr[i] != arr[0] :\n",
    "            print('People in positions', i, end='')\n",
    "        else :\n",
    "            print(' through', i-1, ', flip your caps!!')"
   ]
  },
  {
   "cell_type": "code",
   "execution_count": null,
   "metadata": {},
   "outputs": [],
   "source": []
  }
 ],
 "metadata": {
  "kernelspec": {
   "display_name": "Python 3",
   "language": "python",
   "name": "python3"
  },
  "language_info": {
   "codemirror_mode": {
    "name": "ipython",
    "version": 3
   },
   "file_extension": ".py",
   "mimetype": "text/x-python",
   "name": "python",
   "nbconvert_exporter": "python",
   "pygments_lexer": "ipython3",
   "version": "3.6.8"
  }
 },
 "nbformat": 4,
 "nbformat_minor": 2
}
