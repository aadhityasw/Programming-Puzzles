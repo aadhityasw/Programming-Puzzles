{
 "cells": [
  {
   "cell_type": "markdown",
   "metadata": {},
   "source": [
    "# Text Justification (Word Wrap)\n",
    "Given a sentence with spaces and a line width, we need to split the sentence into multiple lines such that each line has the minimum number of spaces. <br>\n",
    "We use Dynamic Programming to improve the time complexity."
   ]
  },
  {
   "cell_type": "code",
   "execution_count": 44,
   "metadata": {},
   "outputs": [
    {
     "name": "stdin",
     "output_type": "stream",
     "text": [
      "Enter the sentence :  hi how are you.\n",
      "Enter the length of the line :  8\n"
     ]
    },
    {
     "name": "stdout",
     "output_type": "stream",
     "text": [
      "--------------------------------------------------\n",
      "The line arrangement is as follows :\n",
      "hi how \n",
      "are you. \n"
     ]
    }
   ],
   "source": [
    "def get_Input() :\n",
    "    line = input('Enter the sentence : ')\n",
    "    leng = int(input('Enter the length of the line : '))\n",
    "    return line, leng\n",
    "\n",
    "def get_Words(sentence) :\n",
    "    words = sentence.split(' ')\n",
    "    word_lengths = [len(word) for word in words]\n",
    "    return words, word_lengths\n",
    "\n",
    "def check_Possibility(words, lineLength) :\n",
    "    for word in words :\n",
    "        if len(word) > lineLength :\n",
    "            return False\n",
    "    return True\n",
    "\n",
    "def wrap_sentence(wordLengths, lineLength) :\n",
    "    n = len(wordLengths) + 1\n",
    "    # Stores extra spaces from i to j.\n",
    "    extras = [[0] * n for _ in range(n)]\n",
    "    # Stores line cost that contains words from i to j.\n",
    "    lineCost = [[0] * n for _ in range(n)]\n",
    "    # Stores the total cost of optimal arrangement till i.\n",
    "    optCost = [float('inf')] * n\n",
    "    # Stores the beginning index of each word in the most optimal combination.\n",
    "    lineNumber = [0] * n\n",
    "    # Calculates the extra spaces if the words from i to j are places in a single line.\n",
    "    for i in range(n) :\n",
    "        extras[i][i] = lineLength - wordLengths[i-1]\n",
    "        for j in range(i+1, n) :\n",
    "            extras[i][j] = extras[i][j-1] - wordLengths[j-1] - 1\n",
    "    # Calculates the line cost for all the combinations from above.\n",
    "    for i in range(n) :\n",
    "        for j in range(i, n) :\n",
    "            if extras[i][j] < 0 :\n",
    "                lineCost[i][j] = float('inf')\n",
    "            elif extras[i][j] == n-1 and extras[i][j] >= 0 :\n",
    "                lineCost[i][j] = 0\n",
    "            else :\n",
    "                lineCost[i][j] = pow(extras[i][j], 2)\n",
    "    # Calculates and finds the most optimal way of arranging the words.\n",
    "    # optCost[i] = Minimum cost of arranging the words from start till i.\n",
    "    optCost[0] = 0\n",
    "    for i in range(1, n) :\n",
    "        for j in range(1, i+1) :\n",
    "            if optCost[j-1] != float('inf') and lineCost[j][i] != float('inf') and (optCost[j-1] + lineCost[j][i]) < optCost[i] :\n",
    "                    optCost[i] = optCost[j-1] + lineCost[j][i]\n",
    "                    lineNumber[i] = j\n",
    "    return lineNumber\n",
    "\n",
    "def find_Lines(lineNumber, n, wordNumbers): \n",
    "    if lineNumber[n] != 1: \n",
    "        find_Lines(lineNumber, lineNumber[n] - 1, wordNumbers)\n",
    "    wordNumbers.append((lineNumber[n]-1, n-1))\n",
    "    return wordNumbers\n",
    "\n",
    "sentence, lineLength = get_Input()\n",
    "words, wordLengths = get_Words(sentence)\n",
    "print('-'*50)\n",
    "if check_Possibility(words, lineLength) :\n",
    "    lineNumber = wrap_sentence(wordLengths, lineLength)\n",
    "    wordNumbers = find_Lines(lineNumber, len(words), [])\n",
    "    print('The line arrangement is as follows :')\n",
    "    for li in wordNumbers :\n",
    "        for i in range(li[0], li[1]+1) :\n",
    "            print(words[i], end = ' ')\n",
    "        print()\n",
    "else :\n",
    "    print('Invalid Line Length.\\nIt is not possile to make such an arrangement.')"
   ]
  },
  {
   "cell_type": "code",
   "execution_count": null,
   "metadata": {},
   "outputs": [],
   "source": []
  }
 ],
 "metadata": {
  "kernelspec": {
   "display_name": "Python 3",
   "language": "python",
   "name": "python3"
  },
  "language_info": {
   "codemirror_mode": {
    "name": "ipython",
    "version": 3
   },
   "file_extension": ".py",
   "mimetype": "text/x-python",
   "name": "python",
   "nbconvert_exporter": "python",
   "pygments_lexer": "ipython3",
   "version": "3.6.8"
  }
 },
 "nbformat": 4,
 "nbformat_minor": 2
}
