{
 "cells": [
  {
   "cell_type": "markdown",
   "metadata": {},
   "source": [
    "# Best time to party\n",
    "Given a set of intervals, find the best time to attend the party when maximum number of celebrities are present."
   ]
  },
  {
   "cell_type": "markdown",
   "metadata": {},
   "source": [
    "There is a party to celebrate celebrities that you get to attend because you won a ticket at your office lottery. Because of the high demand for tickets you only get to stay for one hour but you get to pick which one since you received a special ticket. You have access to a schedule that lists when exactly each celebrity is going to attend the party. You want to get as many pictures with celebrities as possible to improve your social standing. This means you wish to go for the hour when you get to hob-nob with the maximum number of celebrities and get selfies with each of them. We are given a list of intervals that correspond to when each celebrity comes and goes. Assume that these intervals are \u0002\u0003\u0004\u0005\u0006\u0007, where \u0003 and \u0006 correspond to hours. That is, the interval is closed on the left hand side and open on the right hand side. This just means that the celebrity will be partying on and through the \u0003th hour, but will have left when the \u0006th hour begins. So even if you arrive on dot on the \u0006th hour, you will miss this particular celebrity."
   ]
  },
  {
   "cell_type": "code",
   "execution_count": null,
   "metadata": {},
   "outputs": [],
   "source": [
    "n = int(input('Enter the number of intervals of the celebrities :- '))\n",
    "arr = []\n",
    "for i in range(n) :\n",
    "    arr.append(tuple(map(int, input().strip().split(' '))))\n",
    "    if i==0 :\n",
    "        start = arr[0][0]\n",
    "        end = arr[0][1]\n",
    "    else :\n",
    "        if arr[i][0]<start :\n",
    "            start = arr[i][0]\n",
    "        if arr[i][1]>end :\n",
    "            end = arr[i][1]\n",
    "count = [0] * (end-start+1)\n",
    "for i in range(start, end+1) :\n",
    "    for c in arr :\n",
    "        if c[0]<=i and i<c[1] :\n",
    "            count[i-start] += 1\n",
    "maxcount = 0\n",
    "ma = []\n",
    "for i in range(len(count)) :\n",
    "    if count[i]>maxcount :\n",
    "        ma = [i]\n",
    "        maxcount = count[i]\n",
    "    elif count[i] == maxcount :\n",
    "        ma.append(i)\n",
    "print('The best time to enter the party is :- ')\n",
    "for i in ma :\n",
    "    print('\\t\\t', (i+start))"
   ]
  },
  {
   "cell_type": "markdown",
   "metadata": {},
   "source": [
    "## More Efficient code"
   ]
  },
  {
   "cell_type": "code",
   "execution_count": null,
   "metadata": {},
   "outputs": [],
   "source": [
    "n = int(input('Enter the number of intervals of the celebrities :- '))\n",
    "times = []\n",
    "for i in range(n) :\n",
    "    s = list(map(float, input().strip().split(' ')))\n",
    "    times.append((s[0], 's'))\n",
    "    times.append((s[1], 'e'))\n",
    "\n",
    "for i in range(len(times)) :\n",
    "    for j in range(len(times)-i-1) :\n",
    "        if times[j][0]>times[j+1][0] :\n",
    "            times[j],times[j+1]=times[j+1],times[j]\n",
    "\n",
    "ccount = 0\n",
    "maxcount = 0\n",
    "timemax = 0.0\n",
    "for i in times :\n",
    "    if i[1] == 's' :\n",
    "        ccount += 1\n",
    "    elif i[1] == 'e' :\n",
    "        ccount -= 1\n",
    "    if ccount>maxcount :\n",
    "        maxcount = ccount\n",
    "        timemax = i[0]\n",
    "\n",
    "print('The best time to enter the party is :-', timemax)"
   ]
  },
  {
   "cell_type": "markdown",
   "metadata": {},
   "source": [
    "## With Weights associated with each celebrity\n",
    "Imagine that there is a weight associated with each celebrity dependent on how much you like that particular celebrity. T"
   ]
  },
  {
   "cell_type": "code",
   "execution_count": null,
   "metadata": {},
   "outputs": [],
   "source": [
    "n = int(input('Enter the number of intervals of the celebrities :- '))\n",
    "times = []\n",
    "for i in range(n) :\n",
    "    s = tuple(map(float, input().strip().split(' ')))\n",
    "    times.append((s[0], s[2], 's'))\n",
    "    times.append((s[1], s[2], 'e'))\n",
    "\n",
    "for i in range(len(times)) :\n",
    "    for j in range(len(times)-i-1) :\n",
    "        if times[j][0]>times[j+1][0] :\n",
    "            times[j],times[j+1]=times[j+1],times[j]\n",
    "\n",
    "cweight = 0\n",
    "maxweight = 0\n",
    "timemax = 0.0\n",
    "for i in times :\n",
    "    if i[2] == 's' :\n",
    "        cweight += i[1]\n",
    "    elif i[2] == 'e' :\n",
    "        cweight -= i[1]\n",
    "    if cweight>maxweight :\n",
    "        maxweight = cweight\n",
    "        timemax = i[0]\n",
    "\n",
    "print('The best time to enter the party is :-', timemax)"
   ]
  },
  {
   "cell_type": "code",
   "execution_count": null,
   "metadata": {},
   "outputs": [],
   "source": []
  }
 ],
 "metadata": {
  "kernelspec": {
   "display_name": "Python 3",
   "language": "python",
   "name": "python3"
  },
  "language_info": {
   "codemirror_mode": {
    "name": "ipython",
    "version": 3
   },
   "file_extension": ".py",
   "mimetype": "text/x-python",
   "name": "python",
   "nbconvert_exporter": "python",
   "pygments_lexer": "ipython3",
   "version": "3.6.8"
  }
 },
 "nbformat": 4,
 "nbformat_minor": 2
}
