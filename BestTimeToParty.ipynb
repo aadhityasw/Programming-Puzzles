{
 "cells": [
  {
   "cell_type": "code",
   "execution_count": 1,
   "metadata": {},
   "outputs": [
    {
     "name": "stdin",
     "output_type": "stream",
     "text": [
      "Enter the number of intervals of the celebrities :-  12\n"
     ]
    },
    {
     "name": "stdout",
     "output_type": "stream",
     "text": [
      "The best time to enter the party is :- \n",
      "\t\t 9\n"
     ]
    }
   ],
   "source": [
    "n = int(input('Enter the number of intervals of the celebrities :- '))\n",
    "arr = []\n",
    "arr = [[6,8],[6,12],[6,7],[7,8],[7,10],[8,9],[8,10],[9,12],[9,10],[10,11],[10,12],[11,12]]\n",
    "for i in range(n) :\n",
    "    #arr.append(tuple(map(int, input().strip().split(' '))))\n",
    "    if i==0 :\n",
    "        start = arr[0][0]\n",
    "        end = arr[0][1]\n",
    "    else :\n",
    "        if arr[i][0]<start :\n",
    "            start = arr[i][0]\n",
    "        if arr[i][1]>end :\n",
    "            end = arr[i][1]\n",
    "count = [0] * (end-start+1)\n",
    "for i in range(start, end+1) :\n",
    "    for c in arr :\n",
    "        if c[0]<=i and i<c[1] :\n",
    "            count[i-start] += 1\n",
    "maxcount = 0\n",
    "ma = []\n",
    "for i in range(len(count)) :\n",
    "    if count[i]>maxcount :\n",
    "        ma = [i]\n",
    "        maxcount = count[i]\n",
    "    elif count[i] == maxcount :\n",
    "        ma.append(i)\n",
    "print('The best time to enter the party is :- ')\n",
    "for i in ma :\n",
    "    print('\\t\\t', (i+start))"
   ]
  },
  {
   "cell_type": "code",
   "execution_count": null,
   "metadata": {},
   "outputs": [],
   "source": []
  }
 ],
 "metadata": {
  "kernelspec": {
   "display_name": "Python 3",
   "language": "python",
   "name": "python3"
  },
  "language_info": {
   "codemirror_mode": {
    "name": "ipython",
    "version": 3
   },
   "file_extension": ".py",
   "mimetype": "text/x-python",
   "name": "python",
   "nbconvert_exporter": "python",
   "pygments_lexer": "ipython3",
   "version": "3.6.8"
  }
 },
 "nbformat": 4,
 "nbformat_minor": 2
}
