{
 "cells": [
  {
   "cell_type": "markdown",
   "metadata": {},
   "source": [
    "# Mode Calculator\n",
    "To find the mode from a set of statistical data points."
   ]
  },
  {
   "cell_type": "code",
   "execution_count": 17,
   "metadata": {},
   "outputs": [
    {
     "name": "stdout",
     "output_type": "stream",
     "text": [
      "The Modes are :- [3, 4]\n"
     ]
    }
   ],
   "source": [
    "L=[]\n",
    "n=int(input('Enter the number of terms to be entered.'))\n",
    "for i in range(n) :\n",
    "    L.append(int(input()))\n",
    "p=[]\n",
    "re=[]\n",
    "mode=L[0]\n",
    "for i in L :\n",
    "    if i not in re :\n",
    "        if L.count(i) > L.count(mode) :\n",
    "            if len(p) ==0 :\n",
    "                p.append(i)\n",
    "                mode=i\n",
    "            else :\n",
    "                del p[0:]\n",
    "                p.append(i)\n",
    "                mode=i\n",
    "        elif L.count(i) == L.count(mode) :\n",
    "            p.append(i)\n",
    "            mode=i\n",
    "        re.append(i)\n",
    "if len(p)==1 :\n",
    "    print(\"The Mode is :-\",p)\n",
    "else :\n",
    "    print(\"The Modes are :-\",p)"
   ]
  }
 ],
 "metadata": {
  "kernelspec": {
   "display_name": "Python 3",
   "language": "python",
   "name": "python3"
  },
  "language_info": {
   "codemirror_mode": {
    "name": "ipython",
    "version": 3
   },
   "file_extension": ".py",
   "mimetype": "text/x-python",
   "name": "python",
   "nbconvert_exporter": "python",
   "pygments_lexer": "ipython3",
   "version": "3.6.8"
  }
 },
 "nbformat": 4,
 "nbformat_minor": 2
}
