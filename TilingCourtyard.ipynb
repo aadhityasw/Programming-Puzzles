{
 "cells": [
  {
   "cell_type": "markdown",
   "metadata": {},
   "source": [
    "# Tile the Courtyard\n",
    "Given n in a 2^n x 2^n checkyard with a missing square at position (r, c), find tiling of yard with trominoes (L-shaped dominoes/ tiles).<br><br>\n",
    "A recursive Algorithm to split the workspace into four parts and use the same algorithm forthe four quadrants. In each case one of the four quadrants will have an occupied unit-space as we will fill the other three quadrants with a L-shaped tile at the intersection of the quadrants."
   ]
  },
  {
   "cell_type": "code",
   "execution_count": null,
   "metadata": {},
   "outputs": [],
   "source": [
    "def tiling(yard, size, originR, originC, Rmiss, Cmiss, nextPiece) :\n",
    "    quadMiss = 0\n",
    "    if Rmiss>=(size//2) :\n",
    "        quadMiss += 2\n",
    "    if Cmiss>=(size//2) :\n",
    "        quadMiss += 1\n",
    "    \n",
    "    # Time to place the tiles in the yard in the 2X2 yard.\n",
    "    if size==2 :\n",
    "        piecePos = [(0,0), (0,1), (1,0), (1,1)]\n",
    "        piecePos.pop(quadMiss)\n",
    "        for (r,c) in piecePos :\n",
    "            yard[originR + r][originC + c] = nextPiece\n",
    "        nextPiece+=1\n",
    "        return(nextPiece)\n",
    "    \n",
    "    # Recurse in each of the four different big quadrants.\n",
    "    for quad in range(4) :\n",
    "        shiftR = 0\n",
    "        shiftC = 0\n",
    "        if quad>=2 :\n",
    "            shiftR = (size//2)\n",
    "        if quad%2==1 :\n",
    "            shiftC = (size//2)\n",
    "        \n",
    "        if quad == quadMiss :\n",
    "            nextPiece = tiling(yard, size//2, (originR + shiftR), (originC + shiftC), (Rmiss - shiftR),(Cmiss - shiftC), nextPiece)\n",
    "        else :\n",
    "            newRMiss = 0\n",
    "            newCMiss = 0\n",
    "            if quad<2 :\n",
    "                newRMiss = (size//2 - 1)\n",
    "            if quad%2==0 :\n",
    "                newCMiss = (size//2 - 1)\n",
    "            nextPiece = tiling(yard, size//2, (originR + shiftR), (originC + shiftC), newRMiss, newCMiss, nextPiece)\n",
    "    \n",
    "    # Assign a tile to the 3 quadrants  without the missing tile.\n",
    "    centerPos = [(r + size//2 - 1, c + size//2 - 1) for (r,c) in [(0,0), (0,1), (1,0), (1,1)]]\n",
    "    centerPos.pop(quadMiss)\n",
    "    for (r,c) in centerPos :\n",
    "        yard[originR + r][originC + c] = nextPiece\n",
    "    nextPiece = nextPiece + 1\n",
    "    \n",
    "    return nextPiece\n",
    "\n",
    "\n",
    "n = int(input('Enter the value of n to calculate the size of the courtyard as 2^n :- '))\n",
    "missing = list(map(int, input('Enter the row and column position of the missing tile :- ').strip().split(' ')))\n",
    "emptyPiece = -1\n",
    "yard = [[emptyPiece for i in range(2**n)]for j in range(2**n)] \n",
    "tiling(yard, 2**n, 0, 0, missing[0], missing[1], 0)\n",
    "print('The tiled courtyard can look as follows :- ')\n",
    "for i in range(len(yard)):\n",
    "    row = ''\n",
    "    for j in range(len(yard[0])):\n",
    "        if yard[i][j] != emptyPiece:\n",
    "            row += (chr((yard[i][j] % 26) + ord('A'))) + '\\t'\n",
    "        else:\n",
    "            row += '-' + '\\t'\n",
    "    print (row)"
   ]
  },
  {
   "cell_type": "code",
   "execution_count": null,
   "metadata": {},
   "outputs": [],
   "source": []
  }
 ],
 "metadata": {
  "kernelspec": {
   "display_name": "Python 3",
   "language": "python",
   "name": "python3"
  },
  "language_info": {
   "codemirror_mode": {
    "name": "ipython",
    "version": 3
   },
   "file_extension": ".py",
   "mimetype": "text/x-python",
   "name": "python",
   "nbconvert_exporter": "python",
   "pygments_lexer": "ipython3",
   "version": "3.6.8"
  }
 },
 "nbformat": 4,
 "nbformat_minor": 2
}
