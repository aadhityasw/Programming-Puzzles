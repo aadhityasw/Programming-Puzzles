{
 "cells": [
  {
   "cell_type": "markdown",
   "metadata": {},
   "source": [
    "# 24-Hour Convert\n",
    "Converts time from 12 hour format into 24-hour format."
   ]
  },
  {
   "cell_type": "code",
   "execution_count": null,
   "metadata": {},
   "outputs": [],
   "source": [
    "s=input()\n",
    "s=s.strip()\n",
    "mer=s[len(s)-2:]\n",
    "if mer=='AM' or mer=='PM' :\n",
    "    tim=s[:len(s)-2]\n",
    "    ti=[]\n",
    "    time=tim.split(':')\n",
    "    for i in time :\n",
    "        ti.append(int(i))\n",
    "    if ti[0]>=0 and ti[0]<13 and ti[1]<=60 and ti[1]>=0 and ti[2]>=0 and ti[2]<=60 :\n",
    "        if mer=='PM' :\n",
    "            ti[0]=ti[0]+12\n",
    "        if mer=='AM' and ti[0]==12 :\n",
    "            ti[0]=0\n",
    "        time=[]\n",
    "        for i in ti :\n",
    "            if i<10 :\n",
    "                c='0'+str(i)\n",
    "            else :\n",
    "                c=str(i)\n",
    "            time.append(c)\n",
    "        ans=':'.join(time)\n",
    "        print(ans)"
   ]
  }
 ],
 "metadata": {
  "kernelspec": {
   "display_name": "Python 3",
   "language": "python",
   "name": "python3"
  },
  "language_info": {
   "codemirror_mode": {
    "name": "ipython",
    "version": 3
   },
   "file_extension": ".py",
   "mimetype": "text/x-python",
   "name": "python",
   "nbconvert_exporter": "python",
   "pygments_lexer": "ipython3",
   "version": "3.6.8"
  }
 },
 "nbformat": 4,
 "nbformat_minor": 2
}
