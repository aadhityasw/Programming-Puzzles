{
 "cells": [
  {
   "cell_type": "markdown",
   "metadata": {},
   "source": [
    "# Roadies\n",
    "There are N boxes placed in a horizontal line infront of you with each box having a positive integer written on it. You have to tell me the maximum sum which can be formed by choosing the subset of boxes such that they should not have any digit in common. "
   ]
  },
  {
   "cell_type": "markdown",
   "metadata": {},
   "source": [
    "## Less Efficient Code"
   ]
  },
  {
   "cell_type": "code",
   "execution_count": null,
   "metadata": {},
   "outputs": [],
   "source": [
    "'''def check_digits(a, b) :\n",
    "    aa = a\n",
    "    bb = str(b)\n",
    "    ali = []\n",
    "    while(aa>0) :\n",
    "        am = aa%10\n",
    "        aa = aa//10\n",
    "        if am not in ali :\n",
    "            ali.append(am)\n",
    "            for i in range(len(bb)) :\n",
    "                if am==int(bb[i]) :\n",
    "                    return(False)\n",
    "    return(True)'''\n",
    "def check_digits(a, b) :\n",
    "    aa = a\n",
    "    bb = str(b)\n",
    "    while(aa>0) :\n",
    "        am = aa%10\n",
    "        aa = aa//10\n",
    "        if str(am) in bb :\n",
    "            return(False)\n",
    "    return(True)\n",
    "\n",
    "def make_combinations(complete, present, pos, ma) :\n",
    "    global maxsum\n",
    "    for i in range(pos, len(complete)) :\n",
    "        f = True\n",
    "        for j in present :\n",
    "            if check_digits(complete[i], j) == False :\n",
    "                f = False\n",
    "                break\n",
    "        if f==True :\n",
    "            ma += complete[i]\n",
    "            present.append(complete[i])\n",
    "        if pos == len(complete)-1 :\n",
    "            if ma>maxsum :\n",
    "                maxsum = ma\n",
    "        else :\n",
    "            make_combinations(complete, present, pos+1, ma)\n",
    "        if f ==True :\n",
    "            present.pop(-1)\n",
    "            ma -= complete[i]\n",
    "\n",
    "t = int(input())\n",
    "for i in range(t) :\n",
    "    maxsum = 0\n",
    "    n = int(input())\n",
    "    arr = []\n",
    "    arr.sort(reverse = True)\n",
    "    arr = list(map(int, input().strip().split(' ')))\n",
    "    make_combinations(arr, [], 0, 0)\n",
    "    print(maxsum)"
   ]
  },
  {
   "cell_type": "markdown",
   "metadata": {},
   "source": [
    "## More Efficient Code"
   ]
  },
  {
   "cell_type": "code",
   "execution_count": null,
   "metadata": {},
   "outputs": [],
   "source": [
    "def make_combinations(complete, present, pos, ma) :\n",
    "    global maxsum\n",
    "    for i in range(pos, len(complete)) :\n",
    "        f = True\n",
    "        b = str(complete[i])\n",
    "        for j in range(len(b)) :\n",
    "            if present[int(b[j])] !=0 :\n",
    "                f = False\n",
    "                break\n",
    "        if f==True :\n",
    "            ma += complete[i]\n",
    "            if ma>maxsum :\n",
    "                maxsum = ma\n",
    "            if pos!=len(complete)-1 :\n",
    "                for j in range(len(b)) :\n",
    "                    present[int(b[j])] += 1\n",
    "                make_combinations(complete, present, pos+1, ma)\n",
    "                for j in range(len(b)) :\n",
    "                    present[int(b[j])] -= 1\n",
    "            ma -= complete[i]\n",
    "t = int(input())\n",
    "for i in range(t) :\n",
    "    maxsum = 0\n",
    "    n = int(input())\n",
    "    present = [0 for i in range(10)]\n",
    "    arr = []\n",
    "    arr = list(map(int, input().strip().split(' ')))\n",
    "    arr.sort(reverse = True)\n",
    "    make_combinations(arr, present, 0, 0)\n",
    "    print(maxsum)"
   ]
  },
  {
   "cell_type": "code",
   "execution_count": null,
   "metadata": {},
   "outputs": [],
   "source": []
  }
 ],
 "metadata": {
  "kernelspec": {
   "display_name": "Python 3",
   "language": "python",
   "name": "python3"
  },
  "language_info": {
   "codemirror_mode": {
    "name": "ipython",
    "version": 3
   },
   "file_extension": ".py",
   "mimetype": "text/x-python",
   "name": "python",
   "nbconvert_exporter": "python",
   "pygments_lexer": "ipython3",
   "version": "3.6.8"
  }
 },
 "nbformat": 4,
 "nbformat_minor": 2
}
