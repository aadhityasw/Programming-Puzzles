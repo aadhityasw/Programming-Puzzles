{
 "cells": [
  {
   "cell_type": "markdown",
   "metadata": {},
   "source": [
    "# Card Trick\n",
    "You are a Magician and a Mind Reader Extraordinaire. The Assistant goes into the audience with an authentic deck of 52 cards while you are outside the room and can’t possibly see anything. Five audience members each select one card from the deck. The Assistant then gathers up the five cards. The Assistant shows the entire audience four cards, one at a time. For each of these four cards, the Assistant asks the audience to mentally focus on the card, while you look away and try to read their collective minds. Then, after a few seconds you are shown the card. This helps you calibrate your mind reading to the particular audience JAfter you see these four cards, you claim that you are well calibrated to this audience and leave the room. The Assistant shows the fifth card to the audience and puts it away. Again, the audience mentally focuses on the fifth card.  You return to the room, concentrate for a short time and correctly name the secret, fifth card!You are in cahoots with your Assistant and have planned and practiced this trick. However, everyone is watching closely and the only information that the Assistant can give you is the four cards"
   ]
  },
  {
   "cell_type": "code",
   "execution_count": 36,
   "metadata": {},
   "outputs": [
    {
     "name": "stdout",
     "output_type": "stream",
     "text": [
      "-------------------------------------------------- Welcome --------------------------------------------------\n",
      "You will be given 4 cards randomly from a pack of cards, Your job is to correctly predict the fifth card.\n",
      "Lets'start :- \n",
      "First card :-  10_H\n",
      "Second card :-  9_C\n",
      "Third card :-  9_D\n",
      "Fourth card :-  5_S\n"
     ]
    },
    {
     "name": "stdin",
     "output_type": "stream",
     "text": [
      "Predict the fifth card :-  88\n"
     ]
    },
    {
     "name": "stdout",
     "output_type": "stream",
     "text": [
      "Sorry!! You choose poorly. Better luck next time.\n",
      "-------------------------------------------------- Thank You --------------------------------------------------\n"
     ]
    }
   ],
   "source": [
    "import random\n",
    "\n",
    "deck = ['A_C', 'A_D', 'A_H', 'A_S', '2_C', '2_D', '2_H', '2_S', '3_C', '3_D', '3_H', '3_S',\n",
    "        '4_C', '4_D', '4_H', '4_S', '5_C', '5_D', '5_H', '5_S', '6_C', '6_D', '6_H', '6_S',\n",
    "        '7_C', '7_D', '7_H', '7_S', '8_C', '8_D', '8_H', '8_S', '9_C', '9_D', '9_H', '9_S',\n",
    "        '10_C', '10_D', '10_H', '10_S', 'J_C', 'J_D', 'J_H', 'J_S',\n",
    "        'Q_C', 'Q_D', 'Q_H', 'Q_S', 'K_C', 'K_D', 'K_H', 'K_S']\n",
    "order = ['C', 'D', 'H', 'S']\n",
    "order_card = ['A', '2', '3', '4', '5', '6', '7', '8', '9', '10', 'J', 'Q', 'K']\n",
    "choosen = []\n",
    "\n",
    "while len(choosen)<5 :\n",
    "    i = int(random.random()*51)\n",
    "    if deck[i] in choosen :\n",
    "        continue\n",
    "    else :\n",
    "        choosen.append(deck[i])\n",
    "\n",
    "\n",
    "presence = [0, 0, 0, 0]\n",
    "for i in choosen :\n",
    "    for j in range(4) :\n",
    "        if i[-1] == order[j] :\n",
    "            presence[j]+=1\n",
    "            break\n",
    "\n",
    "for i in range(4) :\n",
    "    if presence[i]>=2 :\n",
    "        cho = order[i]\n",
    "        break\n",
    "\n",
    "\n",
    "def compare(a, b) :\n",
    "    if order.index(a[-1]) <= order.index(b[-1]) :\n",
    "        return(False)\n",
    "    elif order.index(a[-1]) == order.index(b[-1]) :\n",
    "        if order_card.index(a[:-2]) < order_card.index(b[:-2]) :\n",
    "            return(False)\n",
    "    return(True)\n",
    "for i in range(len(choosen)) :\n",
    "    for j in range(len(choosen)-i-1) :\n",
    "        if compare(choosen[j],choosen[j+1]) :\n",
    "            choosen[j],choosen[j+1]=choosen[j+1],choosen[j]\n",
    "\n",
    "\n",
    "def card_difference(a, b) :\n",
    "    an = order_card.index(a[:-2])\n",
    "    bn = order_card.index(b[:-2])\n",
    "    if bn>an :\n",
    "        return(bn - an)\n",
    "    else :\n",
    "        return(13-an+bn)\n",
    "for i in range(len(choosen)) :\n",
    "    if choosen[i][-1] == cho :\n",
    "        same = []\n",
    "        j = i\n",
    "        while j<len(choosen) and choosen[j][-1]==cho :\n",
    "            same.append(choosen[j])\n",
    "            j+=1\n",
    "        break\n",
    "\n",
    "\n",
    "hide = None\n",
    "card = []\n",
    "for i in range(len(same)) :\n",
    "    for j in range(len(same)) :\n",
    "        if hide is not None :\n",
    "            break\n",
    "        if i!=j :\n",
    "            dist = card_difference(same[i], same[j])\n",
    "            if  card_difference(same[i], same[j]) <= 6 :\n",
    "                hide = same[j]\n",
    "                card.append(same[i])\n",
    "    if hide is not None :\n",
    "        break\n",
    "show = choosen.copy()\n",
    "show.remove(hide)\n",
    "show.remove(card[0])\n",
    "\n",
    "\n",
    "if dist==1 :\n",
    "    card += [show[0], show[1], show[2]]\n",
    "elif dist== 2:\n",
    "    card += [show[0], show[2], show[1]]\n",
    "elif dist== 3:\n",
    "    card += [show[1], show[0], show[2]]\n",
    "elif dist== 4:\n",
    "    card += [show[1], show[2], show[0]]\n",
    "elif dist== 5:\n",
    "    card += [show[2], show[0], show[1]]\n",
    "elif dist== 6:\n",
    "    card += [show[2], show[1], show[0]]\n",
    "\n",
    "\n",
    "print('-'*50, 'Welcome', '-'*50)\n",
    "print('You will be given 4 cards randomly from a pack of cards, Your job is to correctly predict the fifth card.')\n",
    "print('Lets\\'start :- ')\n",
    "print('First card :- ', card[0])\n",
    "print('Second card :- ', card[1])\n",
    "print('Third card :- ', card[2])\n",
    "print('Fourth card :- ', card[3])\n",
    "fifth = input('Predict the fifth card :- ').strip()\n",
    "if fifth==hide :\n",
    "    print('Congratulations!! You have choosen wisely.')\n",
    "else :\n",
    "    print('Sorry!! You choose poorly. Better luck next time.')\n",
    "print('-'*50, 'Thank You', '-'*50)"
   ]
  },
  {
   "cell_type": "code",
   "execution_count": null,
   "metadata": {},
   "outputs": [],
   "source": []
  },
  {
   "cell_type": "code",
   "execution_count": null,
   "metadata": {},
   "outputs": [],
   "source": []
  }
 ],
 "metadata": {
  "kernelspec": {
   "display_name": "Python 3",
   "language": "python",
   "name": "python3"
  },
  "language_info": {
   "codemirror_mode": {
    "name": "ipython",
    "version": 3
   },
   "file_extension": ".py",
   "mimetype": "text/x-python",
   "name": "python",
   "nbconvert_exporter": "python",
   "pygments_lexer": "ipython3",
   "version": "3.6.8"
  }
 },
 "nbformat": 4,
 "nbformat_minor": 2
}
