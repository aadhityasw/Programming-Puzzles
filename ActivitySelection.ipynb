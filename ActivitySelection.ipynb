{
 "cells": [
  {
   "cell_type": "markdown",
   "metadata": {},
   "source": [
    "# Activity Selection\n",
    "\n",
    "You are given n activities with their start and finish times. Select the maximum number of activities that can be performed by a single person, assuming that a person can only work on a single activity at a time.<br>\n",
    "We pick the next activity whose finish time is least among the remaining activities and the start time is more than or equal to the finish time of previously selected activity"
   ]
  },
  {
   "cell_type": "code",
   "execution_count": null,
   "metadata": {},
   "outputs": [],
   "source": [
    "def get_Input() :\n",
    "    start = []\n",
    "    end = []\n",
    "    name = []\n",
    "    n = int(input('Enter the number of activities : '))\n",
    "    print('Enter the details of all the activities :- ')\n",
    "    for i in range(n) :\n",
    "        s = input().strip().split(' ')\n",
    "        name.append(s[0])\n",
    "        start.append(int(s[1]))\n",
    "        end.append(int(s[2]))\n",
    "    return n, name, start, end\n",
    "\n",
    "def sort_By_Ending(n, name, start, end) :\n",
    "    # Arranges the lists by increasing order of their finishing times.\n",
    "    for i in range(n) :\n",
    "        for j in range(n-i-1) :\n",
    "            if end[j]>end[j+1] :\n",
    "                end[j], end[j+1] = end[j+1], end[j]\n",
    "                start[j], start[j+1] = start[j+1], start[j]\n",
    "                name[j], name[j+1] = name[j+1], name[j]\n",
    "    return\n",
    "\n",
    "def find_Activity(n, name, start, end) :\n",
    "    # Chooses the activities to maximize the number of activities performed.\n",
    "    choices = [name[0]]\n",
    "    # The first activity in this arranged order is always choosen.\n",
    "    cho = 0\n",
    "    for i in range(n) :\n",
    "        if start[i] > end[cho] :\n",
    "            choices.append(name[i])\n",
    "            cho = i\n",
    "    return choices\n",
    "\n",
    "n, name, start, end = get_Input()\n",
    "sort_By_Ending(n, name, start, end)\n",
    "choices = find_Activity(n, name, start, end)\n",
    "print('The activities to be choosen to maximize efficiency : ')\n",
    "for activity in choices :\n",
    "    print(activity)"
   ]
  },
  {
   "cell_type": "code",
   "execution_count": null,
   "metadata": {},
   "outputs": [],
   "source": [
    "n_1 = 6\n",
    "name_1 = [1, 2, 3, 4, 5]\n",
    "start_1 = [1 , 3 , 0 , 5 , 8 , 5] \n",
    "end_1 = [2 , 4 , 6 , 7 , 9 , 9] "
   ]
  },
  {
   "cell_type": "code",
   "execution_count": null,
   "metadata": {},
   "outputs": [],
   "source": []
  }
 ],
 "metadata": {
  "kernelspec": {
   "display_name": "Python 3",
   "language": "python",
   "name": "python3"
  },
  "language_info": {
   "codemirror_mode": {
    "name": "ipython",
    "version": 3
   },
   "file_extension": ".py",
   "mimetype": "text/x-python",
   "name": "python",
   "nbconvert_exporter": "python",
   "pygments_lexer": "ipython3",
   "version": "3.6.8"
  }
 },
 "nbformat": 4,
 "nbformat_minor": 2
}
